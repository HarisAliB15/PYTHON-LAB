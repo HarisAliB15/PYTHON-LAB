{
  "nbformat": 4,
  "nbformat_minor": 0,
  "metadata": {
    "colab": {
      "provenance": []
    },
    "kernelspec": {
      "name": "python3",
      "display_name": "Python 3"
    },
    "language_info": {
      "name": "python"
    }
  },
  "cells": [
    {
      "cell_type": "markdown",
      "source": [
        "Haris ali\n",
        "BSSE-B15-065\n",
        "**LAb 2**\n",
        "**Activity 1**"
      ],
      "metadata": {
        "id": "eSmj4tYS3Fzc"
      }
    },
    {
      "cell_type": "code",
      "execution_count": null,
      "metadata": {
        "colab": {
          "base_uri": "https://localhost:8080/"
        },
        "id": "jwQeW5mU2pol",
        "outputId": "398374d0-9db1-4b46-e10a-00503a4966f5"
      },
      "outputs": [
        {
          "output_type": "stream",
          "name": "stdout",
          "text": [
            "Hello world\n",
            "24\n",
            "4.2\n",
            "234\n",
            "49.9\n"
          ]
        }
      ],
      "source": [
        "print(\"Hello world\")\n",
        "print(24)\n",
        "print(4.2)\n",
        "print(234)\n",
        "print(49.90)\n"
      ]
    },
    {
      "cell_type": "markdown",
      "source": [
        "**Activity 2**\n",
        "Display String on Screen"
      ],
      "metadata": {
        "id": "Va7EXmtr3uz3"
      }
    },
    {
      "cell_type": "code",
      "source": [
        "print('Hello')\n",
        "print('Quote me on screen !')\n",
        "print(\"what's your name?\")\n",
        "print(\"'you can use triple quote for multilines string'\")"
      ],
      "metadata": {
        "colab": {
          "base_uri": "https://localhost:8080/"
        },
        "id": "wugFAEA43y5A",
        "outputId": "448953b3-0125-4b70-d25d-dd222544395b"
      },
      "execution_count": null,
      "outputs": [
        {
          "output_type": "stream",
          "name": "stdout",
          "text": [
            "Hello\n",
            "Quote me on screen !\n",
            "what's your name?\n",
            "'you can use triple quote for multilines string'\n"
          ]
        }
      ]
    },
    {
      "cell_type": "markdown",
      "source": [
        "**Activity 3**\n",
        "Use Python as a Calculator"
      ],
      "metadata": {
        "id": "gNeFQWfB35NC"
      }
    },
    {
      "cell_type": "code",
      "source": [
        "print(2+2)\n",
        "print(50-4)\n",
        "print(23.5-2.0)\n",
        "print(23-18.5)\n",
        "print(5*4)\n",
        "print(2.5*10)\n",
        "print(2.5*2.5)\n",
        "print(28/4)\n",
        "print(26/4)\n",
        "print(23.4/3.1)"
      ],
      "metadata": {
        "colab": {
          "base_uri": "https://localhost:8080/"
        },
        "id": "iaVBKhsa3-u5",
        "outputId": "6fb1502a-e305-4df2-ca4a-a332dfaabf1f"
      },
      "execution_count": null,
      "outputs": [
        {
          "output_type": "stream",
          "name": "stdout",
          "text": [
            "4\n",
            "46\n",
            "21.5\n",
            "4.5\n",
            "20\n",
            "25.0\n",
            "6.25\n",
            "7.0\n",
            "6.5\n",
            "7.548387096774193\n"
          ]
        }
      ]
    },
    {
      "cell_type": "markdown",
      "source": [
        "**Activity 4**\n",
        "Get integer Answer from Division operation\n"
      ],
      "metadata": {
        "id": "ckyv9XdG4IH5"
      }
    },
    {
      "cell_type": "code",
      "source": [
        "print(28//4)\n",
        "print(26//4)\n",
        "print(type(int(26/4)))\n",
        "print(type(int(28/4)))\n",
        "print(type(int(26%4)))\n",
        "print(type(int(28/4)))\n",
        "print(28%4)\n",
        "print(26%4)"
      ],
      "metadata": {
        "colab": {
          "base_uri": "https://localhost:8080/"
        },
        "id": "qA5QHSaq4NQw",
        "outputId": "754cb166-c6b5-4444-f4a0-9ace7f2a3e25"
      },
      "execution_count": null,
      "outputs": [
        {
          "output_type": "stream",
          "name": "stdout",
          "text": [
            "7\n",
            "6\n",
            "<class 'int'>\n",
            "<class 'int'>\n",
            "<class 'int'>\n",
            "<class 'int'>\n",
            "0\n",
            "2\n"
          ]
        }
      ]
    },
    {
      "cell_type": "markdown",
      "source": [
        "**Activity 5**\n",
        "Calculate power"
      ],
      "metadata": {
        "id": "-oLEcTbC4Rgj"
      }
    },
    {
      "cell_type": "code",
      "source": [
        "print(4**3)\n",
        "print(4**10)\n",
        "print(4**29)\n",
        "print(4**150)\n",
        "print(4**1000)"
      ],
      "metadata": {
        "colab": {
          "base_uri": "https://localhost:8080/"
        },
        "id": "LK46HwtF4WbS",
        "outputId": "63f93fa1-88a0-4808-c756-4da269f44d25"
      },
      "execution_count": null,
      "outputs": [
        {
          "output_type": "stream",
          "name": "stdout",
          "text": [
            "64\n",
            "1048576\n",
            "288230376151711744\n",
            "2037035976334486086268445688409378161051468393665936250636140449354381299763336706183397376\n",
            "114813069527425452423283320117768198402231770208869520047764273682576626139237031385665948631650626991844596463898746277344711896086305533142593135616665318539129989145312280000688779148240044871428926990063486244781615463646388363947317026040466353970904996558162398808944629605623311649536164221970332681344168908984458505602379484807914058900934776500429002716706625830522008132236281291761267883317206598995396418127021779858404042159853183251540889433902091920554957783589672039160081957216630582755380425583726015528348786419432054508915275783882625175435528800822842770817965453762184851149029376\n"
          ]
        }
      ]
    },
    {
      "cell_type": "markdown",
      "source": [
        "**Activity 6**\n",
        "Write Math Expression and Calculate the Answer"
      ],
      "metadata": {
        "id": "5TBBCqKV4dyh"
      }
    },
    {
      "cell_type": "code",
      "source": [
        "print(2+3*6)\n",
        "print((2+3)*6)\n",
        "print(48565878 * 578453)\n",
        "print(2+ 2)\n",
        "#print((5 – 1) * ((7 + 1) / (3 – 1)))\n",
        "print(5 +7)\n",
        "print(42 + 5 ** 2)\n",
        "\n"
      ],
      "metadata": {
        "colab": {
          "base_uri": "https://localhost:8080/"
        },
        "id": "CfrVT-Xo4dGA",
        "outputId": "bb7f1025-18dc-42ed-b0b2-d0c97b4c7113"
      },
      "execution_count": null,
      "outputs": [
        {
          "output_type": "stream",
          "name": "stdout",
          "text": [
            "20\n",
            "30\n",
            "28093077826734\n",
            "4\n",
            "12\n",
            "67\n"
          ]
        }
      ]
    },
    {
      "cell_type": "markdown",
      "source": [
        "**Activity 7**\n",
        "Calculate Number and text"
      ],
      "metadata": {
        "id": "1ipGUt3d4oW5"
      }
    },
    {
      "cell_type": "code",
      "source": [
        "x=\"nancy\"\n",
        "print(x)\n",
        "s=\"My lucky number is %d,what is yours?\"%7\n",
        "print(s)\n",
        "s=\"My lucky number is\"+str(7) +\",what is yours?\"\n",
        "print(s)"
      ],
      "metadata": {
        "colab": {
          "base_uri": "https://localhost:8080/"
        },
        "id": "NT8ZJkmd4uDD",
        "outputId": "e5855469-73b9-426d-a2de-28c4a4dadfc3"
      },
      "execution_count": null,
      "outputs": [
        {
          "output_type": "stream",
          "name": "stdout",
          "text": [
            "nancy\n",
            "My lucky number is 7,what is yours?\n",
            "My lucky number is7,what is yours?\n"
          ]
        }
      ]
    },
    {
      "cell_type": "markdown",
      "source": [
        "**Activity 8**\n",
        "Take input from the keyboard and use it in your program."
      ],
      "metadata": {
        "id": "7k4rLm6v42Yf"
      }
    },
    {
      "cell_type": "code",
      "source": [
        "name=input('what is your name?')\n",
        "print(\"My name is  \" +name)\n",
        "job=input('what is your job?')\n",
        "print('My job is  ' +job)\n",
        "num=input('what is your lucky number?')\n",
        "print('My lucky num is  ' +num)"
      ],
      "metadata": {
        "colab": {
          "base_uri": "https://localhost:8080/"
        },
        "id": "eJykxQQp47aw",
        "outputId": "6c1bbe94-2830-4d81-dc11-36e4d46048f5"
      },
      "execution_count": null,
      "outputs": [
        {
          "output_type": "stream",
          "name": "stdout",
          "text": [
            "what is your name?harisali\n",
            "My name is  harisali\n",
            "what is your job?student\n",
            "My job is  student\n",
            "what is your lucky number?69\n",
            "My lucky num is  69\n"
          ]
        }
      ]
    },
    {
      "cell_type": "markdown",
      "source": [
        "**Activity 9**\n",
        "Let us take an integer from user as input and check whether the given value is even or not."
      ],
      "metadata": {
        "id": "f2GYDsx_5Gfc"
      }
    },
    {
      "cell_type": "code",
      "source": [
        "n=input(\"Enter any Number\")\n",
        "if int(n)%2==0:\n",
        "  print(\"The Number is Even\")"
      ],
      "metadata": {
        "colab": {
          "base_uri": "https://localhost:8080/"
        },
        "id": "nsXq4Psl5PE_",
        "outputId": "c9d825e2-0b69-485f-bec7-cc401660b0b7"
      },
      "execution_count": null,
      "outputs": [
        {
          "output_type": "stream",
          "name": "stdout",
          "text": [
            "Enter any Number4\n",
            "The Number is Even\n"
          ]
        }
      ]
    },
    {
      "cell_type": "markdown",
      "source": [
        "**Activity 10** take an integer from user as input and check whether the given value is even or odd"
      ],
      "metadata": {
        "id": "jbcyXvVE5bSQ"
      }
    },
    {
      "cell_type": "code",
      "source": [
        "n=input(\"Enter any number\")\n",
        "if int(n)%2==0:\n",
        "  print(\"The Given Number is Even\")\n",
        "else:\n",
        " print(\"The Number is Odd\")"
      ],
      "metadata": {
        "colab": {
          "base_uri": "https://localhost:8080/"
        },
        "id": "Ka5vNkAL5gDs",
        "outputId": "adeb43be-0c67-4547-9e56-293f544ea9c9"
      },
      "execution_count": null,
      "outputs": [
        {
          "output_type": "stream",
          "name": "stdout",
          "text": [
            "Enter any number76\n",
            "The Given Number is Even\n"
          ]
        }
      ]
    },
    {
      "cell_type": "markdown",
      "source": [
        "**Activity 11** Calculate the sum of all the values between 0-10 using while loop"
      ],
      "metadata": {
        "id": "0QjCZ2VN5mI3"
      }
    },
    {
      "cell_type": "code",
      "source": [
        "sum=0\n",
        "i=1\n",
        "while i<=10:\n",
        " sum=sum+i\n",
        " i=i+1\n",
        "print(\"Sum is\",sum)"
      ],
      "metadata": {
        "colab": {
          "base_uri": "https://localhost:8080/"
        },
        "id": "pt70BJOj5tuM",
        "outputId": "6c47706f-452c-4a47-86be-e14e4bdbb7d3"
      },
      "execution_count": null,
      "outputs": [
        {
          "output_type": "stream",
          "name": "stdout",
          "text": [
            "Sum is 55\n"
          ]
        }
      ]
    },
    {
      "cell_type": "markdown",
      "source": [
        "**Activity 12** Accept 5 integer values from user and display their sum. Draw flowchart before coding in python."
      ],
      "metadata": {
        "id": "be___UlW5zKR"
      }
    },
    {
      "cell_type": "code",
      "source": [
        "sum=0\n",
        "i=0\n",
        "while i<=4:\n",
        " s=input(\"Enter 5 input\")\n",
        " n=int(s)\n",
        " sum=sum+n\n",
        " i=i+1\n",
        "print(\"Sum of 5 number is\",sum)"
      ],
      "metadata": {
        "colab": {
          "base_uri": "https://localhost:8080/"
        },
        "id": "U7l4K-3j5758",
        "outputId": "93b0551a-7177-4aea-9b44-3e87899e1d7e"
      },
      "execution_count": null,
      "outputs": [
        {
          "output_type": "stream",
          "name": "stdout",
          "text": [
            "Enter 5 input5\n",
            "Enter 5 input5\n",
            "Enter 5 input5\n",
            "Enter 5 input5\n",
            "Enter 5 input5\n",
            "Sum of 5 number is 25\n"
          ]
        }
      ]
    },
    {
      "cell_type": "markdown",
      "source": [
        "**Activity 14** Write a Python code to accept an integer value from user and check that whether the given value is prime number or not"
      ],
      "metadata": {
        "id": "FGHPfZkO6LnE"
      }
    },
    {
      "cell_type": "code",
      "source": [
        "num = int(input(\"Enter an integer: \"))\n",
        "if num > 1:\n",
        " for i in range(2, num):\n",
        "  if num % i == 0:\n",
        "   print(num, \"is not a prime number\")\n",
        "   break\n",
        "  else:\n",
        "   print(num, \"is a prime number\")\n",
        "else:\n",
        " print(num, \"is not a prime number\")"
      ],
      "metadata": {
        "colab": {
          "base_uri": "https://localhost:8080/"
        },
        "id": "kCd2-6Nb6TNP",
        "outputId": "fdacf343-a10d-4af5-e2f8-8b768e26c110"
      },
      "execution_count": null,
      "outputs": [
        {
          "output_type": "stream",
          "name": "stdout",
          "text": [
            "Enter an integer: 14\n",
            "14 is not a prime number\n"
          ]
        }
      ]
    },
    {
      "cell_type": "markdown",
      "source": [
        "**Activity 15:** Write a Python code to accept marks of a student from 1-100 and display the grade according to the following formula."
      ],
      "metadata": {
        "id": "x0S-h48E6ba1"
      }
    },
    {
      "cell_type": "code",
      "source": [
        "marks = int(input(\"Enter marks (out of 100): \"))\n",
        "if marks > 100 or marks < 0:\n",
        " print(\"Invalid input! Please enter marks between 0 and 100.\")\n",
        "elif marks >= 90:\n",
        " print(\"Grade: A+\")\n",
        "elif marks >= 80:\n",
        " print(\"Grade: A\")\n",
        "elif marks >= 70:\n",
        " print(\"Grade: B+\")\n",
        "elif marks >= 60:\n",
        " print(\"Grade: B\")\n",
        "elif marks >= 50:\n",
        " print(\"Grade: C+\")\n",
        "elif marks >= 40:\n",
        " print(\"Grade: C\")\n",
        "else:\n",
        " print(\"Grade: F\")"
      ],
      "metadata": {
        "colab": {
          "base_uri": "https://localhost:8080/"
        },
        "id": "WvwCA_Gx6gT0",
        "outputId": "d28309a5-f1f8-44eb-b037-2f93efa9a150"
      },
      "execution_count": null,
      "outputs": [
        {
          "output_type": "stream",
          "name": "stdout",
          "text": [
            "Enter marks (out of 100): 76\n",
            "Grade: B+\n"
          ]
        }
      ]
    },
    {
      "cell_type": "markdown",
      "source": [
        "**Activity 16:** Write a program that takes a number from user and calculate the factorial of that number"
      ],
      "metadata": {
        "id": "tLd-a6Wi6tkl"
      }
    },
    {
      "cell_type": "code",
      "source": [
        "num = int(input(\"Enter a positive integer: \"))\n",
        "if num == 0 or num == 1:\n",
        " factorial = 1\n",
        "else:\n",
        " factorial = 1\n",
        " # multiply all the integers from 1 to num\n",
        " for i in range(2, num+1):\n",
        "  factorial *= i\n",
        "print(\"Factorial of\", num, \"is\", factorial)"
      ],
      "metadata": {
        "colab": {
          "base_uri": "https://localhost:8080/"
        },
        "id": "DYpFAWqa6yvi",
        "outputId": "445e1b2c-e7ff-414b-aeb2-0f316645b74f"
      },
      "execution_count": null,
      "outputs": [
        {
          "output_type": "stream",
          "name": "stdout",
          "text": [
            "Enter a positive integer: 4\n",
            "Factorial of 4 is 24\n"
          ]
        }
      ]
    }
  ]
}