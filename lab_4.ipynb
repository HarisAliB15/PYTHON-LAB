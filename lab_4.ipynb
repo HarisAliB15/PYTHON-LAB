{
  "nbformat": 4,
  "nbformat_minor": 0,
  "metadata": {
    "colab": {
      "provenance": []
    },
    "kernelspec": {
      "name": "python3",
      "display_name": "Python 3"
    },
    "language_info": {
      "name": "python"
    }
  },
  "cells": [
    {
      "cell_type": "markdown",
      "source": [
        "Haris Ali \n",
        "BSSE-B5-065\n",
        "**lab 4**"
      ],
      "metadata": {
        "id": "qAdMakTl_QSL"
      }
    },
    {
      "cell_type": "markdown",
      "source": [
        "**Activity#8**\n",
        "Imagine two matrices given in the form of 2D lists as under;\n",
        "\n",
        "a = [[1, 0, 0], [0, 1, 0], [0, 0, 1] ]\n",
        "b = [[1, 2, 3], [4, 5, 6], [7, 8, 9] ]\n",
        "\n",
        "Write a python code that finds another matrix/2D list that is a product of and b, i.e.,"
      ],
      "metadata": {
        "id": "1oouizPI_rbJ"
      }
    },
    {
      "cell_type": "code",
      "source": [
        "a = [[1, 0, 0], [0, 1, 0], [0, 0, 1] ]\n",
        "b = [[1, 2, 3], [4, 5, 6], [7, 8, 9] ]\n",
        "c= []\n",
        "for indrow in range(3):\n",
        "  c.append ([])\n",
        "  for indcol in range(3):\n",
        "    c[indrow].append(0)\n",
        "    for indaux in range(3):\n",
        "      c[indrow][indcol] += a[indrow][indaux] * b[indrow][indaux]\n",
        "print(c)"
      ],
      "metadata": {
        "colab": {
          "base_uri": "https://localhost:8080/"
        },
        "id": "vVOivDOC_s31",
        "outputId": "85ab6226-5345-4361-d53e-7c1ec79deb67"
      },
      "execution_count": null,
      "outputs": [
        {
          "output_type": "stream",
          "name": "stdout",
          "text": [
            "[[1, 1, 1], [5, 5, 5], [9, 9, 9]]\n"
          ]
        }
      ]
    }
  ]
}