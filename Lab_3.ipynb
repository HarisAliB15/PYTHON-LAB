{
  "nbformat": 4,
  "nbformat_minor": 0,
  "metadata": {
    "colab": {
      "provenance": []
    },
    "kernelspec": {
      "name": "python3",
      "display_name": "Python 3"
    },
    "language_info": {
      "name": "python"
    }
  },
  "cells": [
    {
      "cell_type": "markdown",
      "source": [
        "Haris ali\n",
        "(BSSE-B15-065)\n",
        "**lab 3**"
      ],
      "metadata": {
        "id": "9J3JNcZ88lBn"
      }
    },
    {
      "cell_type": "markdown",
      "source": [
        "**Activity 1:**Use loops to accept 5 values from user and store them in a list. Display all the values (objects) of the list."
      ],
      "metadata": {
        "id": "fY8Vbdlm8uWw"
      }
    },
    {
      "cell_type": "code",
      "source": [
        "mylist=[]\n",
        "for i in range(5):\n",
        "  val=input(\"Enter a value  \")\n",
        "  mylist.append(val)\n",
        "print(\"The given list is\")\n",
        "print(mylist)"
      ],
      "metadata": {
        "colab": {
          "base_uri": "https://localhost:8080/"
        },
        "id": "d5KUgPNu8ysZ",
        "outputId": "6689c6ba-a380-4272-a6c8-94db55a56da1"
      },
      "execution_count": null,
      "outputs": [
        {
          "output_type": "stream",
          "name": "stdout",
          "text": [
            "Enter a value  1\n",
            "Enter a value  harisali\n",
            "Enter a value  jahanian\n",
            "Enter a value  comsat\n",
            "Enter a value  BSSE\n",
            "The given list is\n",
            "['1', 'harisali', 'jahanian', 'comsat', 'BSSE']\n"
          ]
        }
      ]
    },
    {
      "cell_type": "markdown",
      "source": [
        "**Activity 2:**\n",
        "Repeat the above code by accepting 5 integer values from user. Store these values in a list and display the sum of given values."
      ],
      "metadata": {
        "id": "5tOM9ki59MrT"
      }
    },
    {
      "cell_type": "code",
      "source": [
        "mylist=[]\n",
        "for i in range(5):\n",
        "  val=input(\"Enter a value  \")\n",
        "  n=int(val)\n",
        "  mylist.append(n)\n",
        "sum=0\n",
        "for n in mylist:\n",
        "  sum=sum+n\n",
        "print(\"The sum of given value is\",sum)\n"
      ],
      "metadata": {
        "colab": {
          "base_uri": "https://localhost:8080/"
        },
        "id": "Vd3UJ4CS9R45",
        "outputId": "db2a6cdd-b136-4dff-d922-8a01a8626d49"
      },
      "execution_count": null,
      "outputs": [
        {
          "output_type": "stream",
          "name": "stdout",
          "text": [
            "Enter a value  3\n",
            "Enter a value  4\n",
            "Enter a value  5\n",
            "Enter a value  12\n",
            "Enter a value  4\n",
            "The sum of given value is 28\n"
          ]
        }
      ]
    },
    {
      "cell_type": "markdown",
      "source": [
        "**Activity 3:**\n",
        "Accept 5 integer values from user. Store these values in a list and display the list in ascending order."
      ],
      "metadata": {
        "id": "BYpa-8nL9btm"
      }
    },
    {
      "cell_type": "code",
      "source": [
        "mylist=[]\n",
        "for i in range(5):\n",
        "  val=input(\"Enter a value  \")\n",
        "  n=int(val)\n",
        "  mylist.append(n)\n",
        "mylist.sort()\n",
        "a=max(mylist)\n",
        "b=min(mylist)\n",
        "print(mylist)\n",
        "print(\"Maximum value is\",a)\n",
        "print(\"Minimum value is\",b)"
      ],
      "metadata": {
        "colab": {
          "base_uri": "https://localhost:8080/"
        },
        "id": "ld2egxQn9gAa",
        "outputId": "b6b8791d-fd82-4595-e738-046d49f9e016"
      },
      "execution_count": null,
      "outputs": [
        {
          "output_type": "stream",
          "name": "stdout",
          "text": [
            "Enter a value  3\n",
            "Enter a value  2\n",
            "Enter a value  1\n",
            "Enter a value  5\n",
            "Enter a value  6\n",
            "[1, 2, 3, 5, 6]\n",
            "Maximum value is 6\n",
            "Minimum value is 1\n"
          ]
        }
      ]
    },
    {
      "cell_type": "markdown",
      "source": [
        "**Activity 4:**\n",
        "Accept two lists from user and display their join."
      ],
      "metadata": {
        "id": "58hm79KG9vKx"
      }
    },
    {
      "cell_type": "code",
      "source": [
        "mylist1=[]\n",
        "print(\" enter objecs of first list \")\n",
        "for i in range (5):\n",
        "  val=input(\"enter a value \")\n",
        "  n=int(val)\n",
        "  mylist1.append(n)\n",
        "mylist2=[]\n",
        "print(\" enter objecs of second list \")\n",
        "for i in range (5):\n",
        "  val=input(\"enter a value \")\n",
        "  n=int(val)\n",
        "  mylist2.append(n)\n",
        "list3=mylist1+mylist\n",
        "print(list3)\n"
      ],
      "metadata": {
        "colab": {
          "base_uri": "https://localhost:8080/"
        },
        "id": "S6al3hEY9wE9",
        "outputId": "924aa23c-5269-4024-d658-de9541ba90d4"
      },
      "execution_count": null,
      "outputs": [
        {
          "output_type": "stream",
          "name": "stdout",
          "text": [
            " enter objecs of first list \n",
            "enter a value 5\n",
            "enter a value 4\n",
            "enter a value 3\n",
            "enter a value 2\n",
            "enter a value 1\n",
            " enter objecs of second list \n",
            "enter a value 6\n",
            "enter a value 8\n",
            "enter a value 6\n",
            "enter a value 4\n",
            "enter a value 3\n",
            "[5, 4, 3, 2, 1, 1, 2, 3, 5, 6]\n"
          ]
        }
      ]
    },
    {
      "cell_type": "markdown",
      "source": [
        "**Activity 5:**\n",
        "Write a Python code to accept a list from user and find a required element in it."
      ],
      "metadata": {
        "id": "BTAkBk67-Avf"
      }
    },
    {
      "cell_type": "code",
      "source": [
        "mylist2=[]\n",
        "print(\" enter objecs of first list \")\n",
        "for i in range (5):\n",
        "  val=input(\"enter a value \")\n",
        "  n=int(val)\n",
        "  mylist.append(n)\n",
        "print(mylist)\n",
        "s=input(\"Enter a value to find in the list  \")\n",
        "n=int(s)\n",
        "found=n in mylist\n",
        "if found==True:\n",
        "  print(\"found\")\n",
        "else:\n",
        " print(\"Not found\")"
      ],
      "metadata": {
        "colab": {
          "base_uri": "https://localhost:8080/"
        },
        "id": "GXmS4eRx-BtF",
        "outputId": "ca67eee3-dfa8-4ab1-cef1-10162b1d7d8a"
      },
      "execution_count": null,
      "outputs": [
        {
          "output_type": "stream",
          "name": "stdout",
          "text": [
            " enter objecs of first list \n",
            "enter a value 2\n",
            "enter a value 3\n",
            "enter a value 4\n",
            "enter a value 1\n",
            "enter a value 5\n",
            "[1, 2, 3, 5, 6, 2, 3, 4, 1, 5]\n",
            "Enter a value to find in the list  8\n",
            "Not found\n"
          ]
        }
      ]
    },
    {
      "cell_type": "markdown",
      "source": [
        "**Activity 6:**\n",
        "Write a function called say_hello that takes in a person’s name as a parameter. The function should print a greeting message with the person’s name. Then call the function three times with three different names."
      ],
      "metadata": {
        "id": "WMQ5X8B7-NT6"
      }
    },
    {
      "cell_type": "code",
      "source": [
        "def say_helo(name):\n",
        "  print(\"Hello\",name)\n",
        "for i in range(3):\n",
        "  s=input(\"Enter name :\")\n",
        "  say_helo(s)\n",
        "  "
      ],
      "metadata": {
        "colab": {
          "base_uri": "https://localhost:8080/"
        },
        "id": "hWQdMz0l-TVT",
        "outputId": "efcfc3b2-fb4d-4e1f-9dba-2a7f5436781f"
      },
      "execution_count": null,
      "outputs": [
        {
          "output_type": "stream",
          "name": "stdout",
          "text": [
            "Enter name :harry\n",
            "Hello harry\n",
            "Enter name :ali\n",
            "Hello ali\n",
            "Enter name :hamza\n",
            "Hello hamza\n"
          ]
        }
      ]
    },
    {
      "cell_type": "markdown",
      "source": [
        "**Activity 7:**\n",
        "A palindrome is a string which is same read forward or backwards. For example: “dad” is the same in forward or reverse direction. Another example is “aibohphobia” which literally means, an irritable fear of palindromes"
      ],
      "metadata": {
        "id": "PvslSiN--kdW"
      }
    },
    {
      "cell_type": "code",
      "source": [
        "def isPalindrome(word):\n",
        "    temp=word[::-1]\n",
        "    if temp.capitalize()==word.capitalize():\n",
        "      return True\n",
        "    else:\n",
        "      return False\n",
        "print(isPalindrome(\"deed\"))"
      ],
      "metadata": {
        "colab": {
          "base_uri": "https://localhost:8080/"
        },
        "id": "aNB-7ZD0-pHG",
        "outputId": "52f8a795-e17b-4885-8227-914453e41d13"
      },
      "execution_count": null,
      "outputs": [
        {
          "output_type": "stream",
          "name": "stdout",
          "text": [
            "True\n"
          ]
        }
      ]
    }
  ]
}